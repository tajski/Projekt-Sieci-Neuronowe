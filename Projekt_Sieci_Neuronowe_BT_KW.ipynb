{
  "nbformat": 4,
  "nbformat_minor": 0,
  "metadata": {
    "colab": {
      "provenance": [],
      "authorship_tag": "ABX9TyOEqY3KAAnA+cGZIstYAjj0",
      "include_colab_link": true
    },
    "kernelspec": {
      "name": "python3",
      "display_name": "Python 3"
    },
    "language_info": {
      "name": "python"
    }
  },
  "cells": [
    {
      "cell_type": "markdown",
      "metadata": {
        "id": "view-in-github",
        "colab_type": "text"
      },
      "source": [
        "<a href=\"https://colab.research.google.com/github/tajski/Projekt-Sieci-Neuronowe/blob/main/Projekt_Sieci_Neuronowe_BT_KW.ipynb\" target=\"_parent\"><img src=\"https://colab.research.google.com/assets/colab-badge.svg\" alt=\"Open In Colab\"/></a>"
      ]
    },
    {
      "cell_type": "code",
      "execution_count": null,
      "metadata": {
        "id": "OubaVmmBvi9k"
      },
      "outputs": [],
      "source": [
        "import numpy as np\n",
        "import pandas as pd\n",
        "import os\n",
        "from google.colab import drive\n",
        "from matplotlib import pyplot as plt\n",
        "from keras.utils import image_dataset_from_directory\n",
        "from keras import layers, Model\n",
        "from keras.models import Sequential\n",
        "from keras.utils import plot_model\n",
        "from keras.metrics import CategoricalAccuracy, TruePositives, TrueNegatives, FalsePositives, FalseNegatives, Accuracy"
      ]
    },
    {
      "cell_type": "code",
      "source": [
        "drive.mount('/content/drive', force_remount=True)\n",
        "!unzip -q \"/content/drive/MyDrive/Colab Notebooks/diabetic.zip\""
      ],
      "metadata": {
        "colab": {
          "base_uri": "https://localhost:8080/"
        },
        "id": "A7PstyqVvoyZ",
        "outputId": "ba38d216-a37d-4f40-b6b5-1e5d92f05f7d"
      },
      "execution_count": null,
      "outputs": [
        {
          "output_type": "stream",
          "name": "stdout",
          "text": [
            "Mounted at /content/drive\n"
          ]
        }
      ]
    },
    {
      "cell_type": "code",
      "source": [
        "train_data_root = \"train\"\n",
        "test_data_root = \"test\"\n",
        "valid_data_root = \"valid\"\n",
        "\n",
        "train_data = {}\n",
        "test_data = {}\n",
        "valid_data = {}\n",
        "\n",
        "# Przechodzenie przez katalogi treningowe\n",
        "for root, dirs, files in os.walk(train_data_root):\n",
        "    for dir in dirs:\n",
        "        dir_path = os.path.join(root, dir)\n",
        "        train_data[dir] = os.listdir(dir_path)\n",
        "\n",
        "print(\"Dane treningowe:\")\n",
        "for x in train_data:\n",
        "    print(x, len(train_data[x]))\n",
        "\n",
        "# Przechodzenie przez katalogi testowe\n",
        "for root, dirs, files in os.walk(test_data_root):\n",
        "    for dir in dirs:\n",
        "        dir_path = os.path.join(root, dir)\n",
        "        test_data[dir] = os.listdir(dir_path)\n",
        "\n",
        "print()\n",
        "\n",
        "print(\"Dane testowe:\")\n",
        "for x in test_data:\n",
        "    print(x, len(test_data[x]))\n",
        "\n",
        "    # Przechodzenie przez katalogi walidacyjne\n",
        "for root, dirs, files in os.walk(valid_data_root):\n",
        "    for dir in dirs:\n",
        "        dir_path = os.path.join(root, dir)\n",
        "        valid_data[dir] = os.listdir(dir_path)\n",
        "\n",
        "print()\n",
        "\n",
        "print(\"Dane treningowe:\")\n",
        "for x in valid_data:\n",
        "    print(x, len(valid_data[x]))"
      ],
      "metadata": {
        "colab": {
          "base_uri": "https://localhost:8080/"
        },
        "id": "2eAvyW-vwnPc",
        "outputId": "123e4dc8-6254-45a0-be33-ff5677fd1044"
      },
      "execution_count": null,
      "outputs": [
        {
          "output_type": "stream",
          "name": "stdout",
          "text": [
            "Dane treningowe:\n",
            "DR 1050\n",
            "No_DR 1026\n",
            "\n",
            "Dane testowe:\n",
            "DR 113\n",
            "No_DR 118\n",
            "\n",
            "Dane treningowe:\n",
            "DR 245\n",
            "No_DR 286\n"
          ]
        }
      ]
    }
  ]
}